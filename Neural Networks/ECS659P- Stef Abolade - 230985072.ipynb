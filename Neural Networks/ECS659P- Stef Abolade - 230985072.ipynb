{
 "cells": [
  {
   "cell_type": "markdown",
   "id": "d7fd1c58-7a6d-44dc-bdcd-ea69d21b4ea7",
   "metadata": {},
   "source": [
    "# ECS659P- Stef Abolade - 230985072"
   ]
  },
  {
   "cell_type": "code",
   "execution_count": 1,
   "id": "d1fc1abc-1a6f-4f45-826e-75974c8f738a",
   "metadata": {
    "tags": []
   },
   "outputs": [],
   "source": [
    "import numpy as np\n"
   ]
  },
  {
   "cell_type": "markdown",
   "id": "d7906ee0-5e41-43ae-a750-fd8dd89d4ae8",
   "metadata": {},
   "source": [
    "## Question 1a"
   ]
  },
  {
   "cell_type": "code",
   "execution_count": 2,
   "id": "51231981-2f63-496b-a30d-bbb16b68d246",
   "metadata": {
    "tags": []
   },
   "outputs": [
    {
     "data": {
      "text/plain": [
       "array([[1, 1],\n",
       "       [2, 1],\n",
       "       [3, 1],\n",
       "       [4, 1],\n",
       "       [5, 1]])"
      ]
     },
     "execution_count": 2,
     "metadata": {},
     "output_type": "execute_result"
    }
   ],
   "source": [
    "import numpy as np\n",
    "\n",
    "def coefficient(x):\n",
    "    return np.array([x, 1])\n",
    "\n",
    "x_num = np.array([1, 2, 3, 4, 5])\n",
    "x_transform = np.array([coefficient(x) for x in x_num])\n",
    "\n",
    "x_transform\n"
   ]
  },
  {
   "cell_type": "markdown",
   "id": "33eb859b-37d0-4942-8122-850f4d63b3e6",
   "metadata": {},
   "source": [
    "## Question 1b"
   ]
  },
  {
   "cell_type": "code",
   "execution_count": 12,
   "id": "cd5e052a-50f7-4642-86bf-839fa8f06b06",
   "metadata": {
    "tags": []
   },
   "outputs": [
    {
     "name": "stdout",
     "output_type": "stream",
     "text": [
      "The logits matrix is \n",
      " [[3 2]\n",
      " [0 3]\n",
      " [2 1]]\n"
     ]
    }
   ],
   "source": [
    "X = np.array([[0, 2], [1, -1], [-1, 1]])\n",
    "W = np.array([[0, 1], [1, 0]])\n",
    "B = np.array([[1, 2], [1, 2], [1, 2]])\n",
    "\n",
    "logits = np.dot(X, W) + B\n",
    "\n",
    "print('The logits matrix is \\n',  logits)\n"
   ]
  },
  {
   "cell_type": "code",
   "execution_count": 4,
   "id": "d9270f3a-fb7d-41b9-89fc-dc5e55a1b4dc",
   "metadata": {
    "tags": []
   },
   "outputs": [
    {
     "name": "stdout",
     "output_type": "stream",
     "text": [
      "the accuracy is 1.0\n"
     ]
    }
   ],
   "source": [
    "Y = np.array([[1, 0], [0, 1], [1, 0]])\n",
    "\n",
    "predicted= np.argmax(logits, axis=1)\n",
    "actual = np.argmax(Y, axis=1)\n",
    "\n",
    "accuracy = np.mean(predicted == actual)\n",
    "\n",
    "print('the accuracy is' , accuracy)\n"
   ]
  },
  {
   "cell_type": "markdown",
   "id": "a232ded6-c539-41eb-a431-cb9a0c24823a",
   "metadata": {},
   "source": [
    "## Question 2"
   ]
  },
  {
   "cell_type": "code",
   "execution_count": 5,
   "id": "21e19952-6d49-4872-bbb8-7134dfbe0d89",
   "metadata": {
    "tags": []
   },
   "outputs": [
    {
     "name": "stdout",
     "output_type": "stream",
     "text": [
      "W1 shape: (10, 128)\n",
      "B1 shape: (1, 128)\n",
      "W2 shape: (128, 256)\n",
      "B2 shape: (1, 256)\n",
      "W3 shape: (256, 10)\n",
      "B3 shape: (1, 10)\n",
      "Total number of parameters: 37002\n"
     ]
    }
   ],
   "source": [
    "W1_shape = (10, 128)\n",
    "B1_shape = (1, 128)\n",
    "W2_shape = (128, 256)\n",
    "B2_shape = (1, 256)\n",
    "W3_shape = (256, 10)\n",
    "B3_shape = (1, 10)\n",
    "\n",
    "W1_parameters= W1_shape[0] * W1_shape[1]\n",
    "B1_parameters = B1_shape[1]\n",
    "W2_parameters= W2_shape[0] * W2_shape[1]\n",
    "B2_parameters = B2_shape[1]\n",
    "W3_parameters = W3_shape[0] * W3_shape[1]\n",
    "B3_parameters= B3_shape[1]\n",
    "\n",
    "total = (W1_parameters + B1_parameters +\n",
    "                    W2_parameters + B2_parameters +\n",
    "                    W3_parameters + B3_parameters)\n",
    "\n",
    "print(\"W1 shape:\", W1_shape)\n",
    "print(\"B1 shape:\", B1_shape)\n",
    "print(\"W2 shape:\", W2_shape)\n",
    "print(\"B2 shape:\", B2_shape)\n",
    "print(\"W3 shape:\", W3_shape)\n",
    "print(\"B3 shape:\", B3_shape)\n",
    "\n",
    "print('Total number of parameters:', total)\n"
   ]
  },
  {
   "cell_type": "markdown",
   "id": "6ea60f09-a158-4514-ab63-efa78421c33e",
   "metadata": {},
   "source": [
    "## Question 3"
   ]
  },
  {
   "cell_type": "code",
   "execution_count": 6,
   "id": "0d5da039-0690-4fe3-9a20-014e40eb6e1b",
   "metadata": {
    "tags": []
   },
   "outputs": [
    {
     "name": "stdout",
     "output_type": "stream",
     "text": [
      "The output of image C is \n",
      " [[ 7. 13.]\n",
      " [16. 14.]]\n"
     ]
    }
   ],
   "source": [
    "A = np.array([\n",
    "    [[1, 2, 3], [3, 2, 1], [1, 3, 2]], \n",
    "    [[2, 1, 3], [1, 2, 3], [3, 2, 1]]  \n",
    "])\n",
    "\n",
    "B = np.array([\n",
    "    [[1, 0], [0, 1]],  \n",
    "    [[0, 2], [2, 0]]  \n",
    "])\n",
    "\n",
    "output = (A.shape[1] - B.shape[1] + 1, A.shape[2] - B.shape[2] + 1)\n",
    "C = np.zeros((output[0], output[1]))\n",
    "\n",
    "for i in range(output[0]):\n",
    "    for j in range(output[1]):\n",
    "        C[i, j] = np.sum(A[:, i:i+B.shape[1], j:j+B.shape[2]] * B)\n",
    "\n",
    "print('The output of image C is \\n', C)\n"
   ]
  },
  {
   "cell_type": "markdown",
   "id": "b7d19b5b-a28c-46dd-ba0b-554a471b0b50",
   "metadata": {},
   "source": [
    "## Question 3b"
   ]
  },
  {
   "cell_type": "code",
   "execution_count": 7,
   "id": "756cb646-b452-4bd1-91fb-3eb87a762114",
   "metadata": {
    "tags": []
   },
   "outputs": [
    {
     "name": "stdout",
     "output_type": "stream",
     "text": [
      "The shape of the output image of each of the first four steps are \n",
      ": (16, 32, 32) (16, 16, 16) (64, 16, 16) (64, 8, 8)\n"
     ]
    }
   ],
   "source": [
    "#image shape\n",
    "input_shape = (3, 32, 32)\n",
    "\n",
    "#1st Convolutional Layer\n",
    "conv1 = (16, 32, 32)\n",
    "\n",
    "#1st Pooling Layer\n",
    "pool1 = (16, 16, 16)\n",
    "\n",
    "#2ndConvolutional Layer\n",
    "conv2 = (64, 16, 16)\n",
    "\n",
    "#2nd Average Pooling Layer\n",
    "pool2 = (64, 8, 8)\n",
    "\n",
    "# Fully Connected Layer\n",
    "fc_input = 64 * 8 * 8\n",
    "fc_output = 10\n",
    "\n",
    "print('The shape of the output image of each of the first four steps are \\n:', conv1, pool1, conv2, pool2)"
   ]
  },
  {
   "cell_type": "markdown",
   "id": "d746468b-e0e7-414f-8a0c-d0bfbb7972bd",
   "metadata": {},
   "source": [
    "## Question 4"
   ]
  },
  {
   "cell_type": "code",
   "execution_count": 13,
   "id": "3a770c65-c9a1-44a1-b6c9-680e206770a5",
   "metadata": {
    "tags": []
   },
   "outputs": [
    {
     "name": "stdout",
     "output_type": "stream",
     "text": [
      "The mean vector is: [5. 7.] \n",
      " The standard deviation vectir is: [1. 1.] \n",
      " The output batch is: \n",
      " [[-1. -1.]\n",
      " [ 1.  1.]\n",
      " [-1.  1.]\n",
      " [ 1. -1.]]\n"
     ]
    }
   ],
   "source": [
    "B = np.array([[4, 6], [6, 8], [4, 8], [6, 6]])\n",
    "\n",
    "gamma = np.array([1, 1])\n",
    "beta = np.array([0, 0])\n",
    "\n",
    "mean = np.mean(B, axis=0)\n",
    "sd = np.std(B, axis=0)\n",
    "\n",
    "normalised = (B - mean) / sd * gamma + beta\n",
    "\n",
    "print('The mean vector is:', mean, '\\n The standard deviation vectir is:', sd, '\\n The output batch is: \\n' ,normalised)\n"
   ]
  },
  {
   "cell_type": "markdown",
   "id": "1e029ae8-5115-4d6b-8f16-2f8406585d00",
   "metadata": {},
   "source": [
    "## Question 4b"
   ]
  },
  {
   "cell_type": "code",
   "execution_count": 14,
   "id": "b5db643e-958f-4341-ae11-b498e421e18a",
   "metadata": {
    "tags": []
   },
   "outputs": [
    {
     "name": "stdout",
     "output_type": "stream",
     "text": [
      "The initial weight vector is: [2. 4.] The next 2 points are: [1. 2.] and [0. 0.]\n"
     ]
    }
   ],
   "source": [
    "def gradient_loss(w):\n",
    "    return 2 * w\n",
    "\n",
    "w = np.array([2.0, 4.0])\n",
    "lr = 0.25\n",
    "momentum  = 0.5\n",
    "velocity = np.array([0.0, 0.0])\n",
    "\n",
    "points = [w.copy()]\n",
    "for _ in range(2):\n",
    "    g = gradient_loss(w)\n",
    "    velocity = momentum  *velocity - lr * g\n",
    "    w += velocity\n",
    "    points.append(w.copy())\n",
    "\n",
    "print('The initial weight vector is:', points[0], 'The next 2 points are:', points[1], 'and', points[2])\n"
   ]
  }
 ],
 "metadata": {
  "kernelspec": {
   "display_name": "Python 3 (ipykernel)",
   "language": "python",
   "name": "python3"
  },
  "language_info": {
   "codemirror_mode": {
    "name": "ipython",
    "version": 3
   },
   "file_extension": ".py",
   "mimetype": "text/x-python",
   "name": "python",
   "nbconvert_exporter": "python",
   "pygments_lexer": "ipython3",
   "version": "3.11.5"
  }
 },
 "nbformat": 4,
 "nbformat_minor": 5
}

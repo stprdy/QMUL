{
  "nbformat": 4,
  "nbformat_minor": 0,
  "metadata": {
    "colab": {
      "provenance": [],
      "gpuType": "T4"
    },
    "kernelspec": {
      "name": "python3",
      "display_name": "Python 3"
    },
    "language_info": {
      "name": "python"
    },
    "accelerator": "GPU"
  },
  "cells": [
    {
      "cell_type": "code",
      "execution_count": null,
      "metadata": {
        "id": "0BZ0h9pQ8ZKe",
        "colab": {
          "base_uri": "https://localhost:8080/"
        },
        "outputId": "278540b9-d73b-4bb9-d8fc-cf2284a6b8e3"
      },
      "outputs": [
        {
          "output_type": "stream",
          "name": "stdout",
          "text": [
            "Drive already mounted at /content/drive; to attempt to forcibly remount, call drive.mount(\"/content/drive\", force_remount=True).\n"
          ]
        }
      ],
      "source": [
        "from google.colab import drive\n",
        "\n",
        "import numpy as np\n",
        "import os\n",
        "import pickle\n",
        "import numpy as np\n",
        "import matplotlib.pyplot as plt\n",
        "\n",
        "import torch\n",
        "from torch import nn\n",
        "from torch import optim\n",
        "\n",
        "import torch.nn.functional as F\n",
        "\n",
        "import torchvision\n",
        "import torchvision.transforms as transforms\n",
        "from torchvision.transforms import ToTensor, Normalize, Compose\n",
        "\n",
        "from torch.utils.data import TensorDataset, DataLoader\n",
        "\n",
        "drive.mount('/content/drive')"
      ]
    },
    {
      "cell_type": "code",
      "source": [
        "dataset_path = '/content/drive/My Drive/100/'\n",
        "os.chdir(dataset_path)"
      ],
      "metadata": {
        "id": "4SOB-oQu_47M"
      },
      "execution_count": null,
      "outputs": []
    },
    {
      "cell_type": "code",
      "source": [
        "!tar -xvzf cifar-10-python.tar.gz"
      ],
      "metadata": {
        "id": "lStFhDAUEL_4",
        "colab": {
          "base_uri": "https://localhost:8080/"
        },
        "outputId": "3a7c0a2d-71f5-492a-c2ec-c765d1fb2c95"
      },
      "execution_count": null,
      "outputs": [
        {
          "output_type": "stream",
          "name": "stdout",
          "text": [
            "cifar-10-batches-py/\n",
            "cifar-10-batches-py/data_batch_4\n",
            "cifar-10-batches-py/readme.html\n",
            "cifar-10-batches-py/test_batch\n",
            "cifar-10-batches-py/data_batch_3\n",
            "cifar-10-batches-py/batches.meta\n",
            "cifar-10-batches-py/data_batch_2\n",
            "cifar-10-batches-py/data_batch_5\n",
            "cifar-10-batches-py/data_batch_1\n"
          ]
        }
      ]
    },
    {
      "cell_type": "code",
      "source": [
        "os.listdir('.')"
      ],
      "metadata": {
        "id": "E__a8bsCETlk",
        "colab": {
          "base_uri": "https://localhost:8080/"
        },
        "outputId": "3045ade8-147a-4bae-b501-4c72becac531"
      },
      "execution_count": null,
      "outputs": [
        {
          "output_type": "execute_result",
          "data": {
            "text/plain": [
              "['cifar-10-python.tar.gz', 'cifar-10-batches-py']"
            ]
          },
          "metadata": {},
          "execution_count": 5
        }
      ]
    },
    {
      "cell_type": "code",
      "source": [
        "def unpickle(file):\n",
        "    with open(f'cifar-10-batches-py/{file}', 'rb') as fo:\n",
        "        dict = pickle.load(fo, encoding='bytes')\n",
        "    return dict\n"
      ],
      "metadata": {
        "id": "FlT3XYD5ALiv"
      },
      "execution_count": null,
      "outputs": []
    },
    {
      "cell_type": "code",
      "source": [
        "train_data = []\n",
        "train_labels = []\n",
        "\n",
        "# Load and append all training batches\n",
        "for i in range(1, 6):\n",
        "    batch = unpickle(f'data_batch_{i}')\n",
        "    train_data.append(batch[b'data'])\n",
        "    train_labels += batch[b'labels']\n",
        "\n",
        "# Convert lists to numpy arrays for convenience\n",
        "train_data = np.vstack(train_data).reshape(-1, 3, 32, 32).transpose(0, 2, 3, 1)\n",
        "train_labels = np.array(train_labels)\n",
        "\n",
        "# Load the test batch\n",
        "test_batch = unpickle('test_batch')\n",
        "test_data = test_batch[b'data'].reshape(-1, 3, 32, 32).transpose(0, 2, 3, 1)\n",
        "test_labels = np.array(test_batch[b'labels'])"
      ],
      "metadata": {
        "id": "p8kLoBZDAZYm"
      },
      "execution_count": null,
      "outputs": []
    },
    {
      "cell_type": "code",
      "source": [
        "print(f\"Training data shape: {train_data.shape}\")\n",
        "print(f\"Training labels shape: {train_labels.shape}\")\n",
        "print(f\"Test data shape: {test_data.shape}\")\n",
        "print(f\"Test labels shape: {test_labels.shape}\")"
      ],
      "metadata": {
        "id": "oqfPdJdzFW5W",
        "colab": {
          "base_uri": "https://localhost:8080/"
        },
        "outputId": "c445c136-ee3a-418b-ee6b-a7c46b3ee872"
      },
      "execution_count": null,
      "outputs": [
        {
          "output_type": "stream",
          "name": "stdout",
          "text": [
            "Training data shape: (50000, 32, 32, 3)\n",
            "Training labels shape: (50000,)\n",
            "Test data shape: (10000, 32, 32, 3)\n",
            "Test labels shape: (10000,)\n"
          ]
        }
      ]
    },
    {
      "cell_type": "markdown",
      "source": [
        "## DataLoader Task 1"
      ],
      "metadata": {
        "id": "-caUY0lnGTAh"
      }
    },
    {
      "cell_type": "code",
      "source": [
        "train_data_tensor = torch.tensor(train_data.transpose((0, 3, 1, 2)), dtype=torch.float) / 255.0\n",
        "train_labels_tensor = torch.tensor(train_labels, dtype=torch.long)\n",
        "test_data_tensor = torch.tensor(test_data.transpose((0, 3, 1, 2)), dtype=torch.float) / 255.0\n",
        "test_labels_tensor = torch.tensor(test_labels, dtype=torch.long)\n",
        "\n",
        "train_data_tensor = (train_data_tensor - 0.5) / 0.5\n",
        "test_data_tensor = (test_data_tensor - 0.5) / 0.5\n",
        "\n",
        "train_dataset = TensorDataset(train_data_tensor, train_labels_tensor)\n",
        "test_dataset = TensorDataset(test_data_tensor, test_labels_tensor)\n",
        "\n",
        "train_loader = DataLoader(train_dataset, batch_size=64, shuffle=True)\n",
        "test_loader = DataLoader(test_dataset, batch_size=64, shuffle=False)"
      ],
      "metadata": {
        "id": "ouvd-m33GdOx"
      },
      "execution_count": null,
      "outputs": []
    },
    {
      "cell_type": "code",
      "source": [
        "# Fetch the first batch from the train_loader\n",
        "first_batch_inputs, first_batch_labels = next(iter(train_loader))\n",
        "print(f\"Shape of the inputs in the first batch: {first_batch_inputs.shape}\")\n",
        "# Expected output: Shape of the inputs in the first batch: torch.Size([64, 3, 32, 32])\n"
      ],
      "metadata": {
        "colab": {
          "base_uri": "https://localhost:8080/"
        },
        "id": "p4d98aHIpk5x",
        "outputId": "51123c3b-2908-4333-e222-4149aa1d79ef"
      },
      "execution_count": null,
      "outputs": [
        {
          "output_type": "stream",
          "name": "stdout",
          "text": [
            "Shape of the inputs in the first batch: torch.Size([64, 3, 32, 32])\n"
          ]
        }
      ]
    },
    {
      "cell_type": "code",
      "source": [
        "images, labels = next(iter(train_loader))\n",
        "\n",
        "print(f\"Batch images shape: {images.shape}\")\n",
        "print(f\"Batch labels shape: {labels.shape}\")\n",
        "\n",
        "# Visualize the first image in the batch\n",
        "plt.figure(figsize=(2, 2))\n",
        "plt.imshow(images[0].permute(1, 2, 0) * 0.5 + 0.5)  # Unnormalize\n",
        "plt.title(f\"Label: {labels[0]}\")\n",
        "plt.axis('off')\n",
        "plt.show()"
      ],
      "metadata": {
        "id": "xGiUdmEnJJBk",
        "colab": {
          "base_uri": "https://localhost:8080/",
          "height": 248
        },
        "outputId": "298bd4c0-26a0-40a5-97a5-108d9cc51e54"
      },
      "execution_count": null,
      "outputs": [
        {
          "output_type": "stream",
          "name": "stdout",
          "text": [
            "Batch images shape: torch.Size([64, 3, 32, 32])\n",
            "Batch labels shape: torch.Size([64])\n"
          ]
        },
        {
          "output_type": "display_data",
          "data": {
            "text/plain": [
              "<Figure size 200x200 with 1 Axes>"
            ],
            "image/png": "[encoded data removed]"
          },
          "metadata": {}
        }
      ]
    },
    {
      "cell_type": "code",
      "source": [
        "\n",
        "# # version 2\n",
        "# import torch\n",
        "# import torch.nn as nn\n",
        "# import torch.nn.functional as F\n",
        "\n",
        "# class ImprovedIntermediateBlock(nn.Module):\n",
        "#     def __init__(self, in_channels, out_channels):\n",
        "#         super(ImprovedIntermediateBlock, self).__init__()\n",
        "#         self.convs = nn.ModuleList([\n",
        "#             nn.Sequential(\n",
        "#                 nn.Conv2d(in_channels, 64, kernel_size=3, padding=1),\n",
        "#                 nn.BatchNorm2d(64),\n",
        "#                 nn.ReLU(),\n",
        "#                 nn.Dropout2d(0.2),\n",
        "#             ),\n",
        "#             nn.Sequential(\n",
        "#                 nn.Conv2d(64, 64, kernel_size=3, padding=1),\n",
        "#                 nn.BatchNorm2d(64),\n",
        "#                 nn.ReLU(),\n",
        "#                 nn.Dropout2d(0.2),\n",
        "#             ),\n",
        "#             nn.Sequential(\n",
        "#                 nn.Conv2d(64, out_channels, kernel_size=3, padding=1),\n",
        "#                 nn.BatchNorm2d(out_channels),\n",
        "#                 nn.ReLU(),\n",
        "#                 nn.Dropout2d(0.2),\n",
        "#             )\n",
        "#         ])\n",
        "#         self.pool = nn.AdaptiveAvgPool2d((8, 8))\n",
        "\n",
        "#     def forward(self, x):\n",
        "#         for conv in self.convs:\n",
        "#             x = conv(x)\n",
        "#         x = self.pool(x)\n",
        "#         x = x.view(x.size(0), -1)\n",
        "#         x = self.fc(x)\n",
        "#         return x\n",
        "\n",
        "# class EnhancedOutputBlock(nn.Module):\n",
        "#     def __init__(self, in_channels, num_classes):\n",
        "#         super(EnhancedOutputBlock, self).__init__()\n",
        "#         self.avgpool = nn.AdaptiveAvgPool2d((1, 1))\n",
        "#         self.fc1 = nn.Linear(in_channels, in_channels // 2)\n",
        "#         self.fc2 = nn.Linear(in_channels // 2, num_classes)\n",
        "#         self.dropout = nn.Dropout(0.5)\n",
        "\n",
        "#     def forward(self, x):\n",
        "#         x = self.avgpool(x)\n",
        "#         x = torch.flatten(x, 1)\n",
        "#         x = F.relu(self.fc1(x))\n",
        "#         x = self.dropout(x)\n",
        "#         x = self.fc2(x)\n",
        "#         return x\n",
        "\n",
        "# class CIFAR10Classifier(nn.Module):\n",
        "#     def __init__(self, num_blocks=2, num_classes=10):\n",
        "#         super(CIFAR10Classifier, self).__init__()\n",
        "#         self.blocks = nn.ModuleList()\n",
        "#         in_channels = 3\n",
        "#         out_channels = 64\n",
        "#         for i in range(num_blocks):\n",
        "#             self.blocks.append(ImprovedIntermediateBlock(in_channels, out_channels))\n",
        "#             in_channels = out_channels\n",
        "#         self.output_block = EnhancedOutputBlock(out_channels, num_classes)\n",
        "\n",
        "#     def forward(self, x):\n",
        "#         for block in self.blocks:\n",
        "#             x = block(x)\n",
        "#         x = self.output_block(x)\n",
        "#         return x\n",
        "\n",
        "# model = CIFAR10Classifier()\n",
        "# print(model)\n"
      ],
      "metadata": {
        "colab": {
          "base_uri": "https://localhost:8080/"
        },
        "id": "N7gYVigiJHfv",
        "outputId": "76532afc-6fe4-4cab-986a-4ce519dcb111"
      },
      "execution_count": null,
      "outputs": [
        {
          "output_type": "stream",
          "name": "stdout",
          "text": [
            "CIFAR10Classifier(\n",
            "  (blocks): ModuleList(\n",
            "    (0): ImprovedIntermediateBlock(\n",
            "      (convs): ModuleList(\n",
            "        (0): Sequential(\n",
            "          (0): Conv2d(3, 64, kernel_size=(3, 3), stride=(1, 1), padding=(1, 1))\n",
            "          (1): BatchNorm2d(64, eps=1e-05, momentum=0.1, affine=True, track_running_stats=True)\n",
            "          (2): ReLU()\n",
            "          (3): Dropout2d(p=0.2, inplace=False)\n",
            "        )\n",
            "        (1-2): 2 x Sequential(\n",
            "          (0): Conv2d(64, 64, kernel_size=(3, 3), stride=(1, 1), padding=(1, 1))\n",
            "          (1): BatchNorm2d(64, eps=1e-05, momentum=0.1, affine=True, track_running_stats=True)\n",
            "          (2): ReLU()\n",
            "          (3): Dropout2d(p=0.2, inplace=False)\n",
            "        )\n",
            "      )\n",
            "      (pool): AdaptiveAvgPool2d(output_size=(8, 8))\n",
            "      (fc): Linear(in_features=4096, out_features=64, bias=True)\n",
            "    )\n",
            "    (1): ImprovedIntermediateBlock(\n",
            "      (convs): ModuleList(\n",
            "        (0-2): 3 x Sequential(\n",
            "          (0): Conv2d(64, 64, kernel_size=(3, 3), stride=(1, 1), padding=(1, 1))\n",
            "          (1): BatchNorm2d(64, eps=1e-05, momentum=0.1, affine=True, track_running_stats=True)\n",
            "          (2): ReLU()\n",
            "          (3): Dropout2d(p=0.2, inplace=False)\n",
            "        )\n",
            "      )\n",
            "      (pool): AdaptiveAvgPool2d(output_size=(8, 8))\n",
            "      (fc): Linear(in_features=4096, out_features=64, bias=True)\n",
            "    )\n",
            "  )\n",
            "  (output_block): EnhancedOutputBlock(\n",
            "    (avgpool): AdaptiveAvgPool2d(output_size=(1, 1))\n",
            "    (fc1): Linear(in_features=64, out_features=32, bias=True)\n",
            "    (fc2): Linear(in_features=32, out_features=10, bias=True)\n",
            "    (dropout): Dropout(p=0.5, inplace=False)\n",
            "  )\n",
            ")\n"
          ]
        }
      ]
    },
    {
      "cell_type": "markdown",
      "source": [
        "# Model Task 2"
      ],
      "metadata": {
        "id": "f04KWk9QWOHj"
      }
    },
    {
      "cell_type": "code",
      "source": [
        "import torch\n",
        "import torch.nn as nn\n",
        "import torch.nn.functional as F\n",
        "\n",
        "class ImprovedIntermediateBlock(nn.Module):\n",
        "    def __init__(self, in_channels, out_channels):\n",
        "        super(ImprovedIntermediateBlock, self).__init__()\n",
        "        self.convs = nn.ModuleList([\n",
        "            nn.Sequential(\n",
        "                nn.Conv2d(in_channels, 64, kernel_size=3, padding=1),\n",
        "                nn.BatchNorm2d(64),\n",
        "                nn.ReLU(),\n",
        "                nn.Dropout2d(0.2),\n",
        "            ),\n",
        "            nn.Sequential(\n",
        "                nn.Conv2d(64, 64, kernel_size=3, padding=1),\n",
        "                nn.BatchNorm2d(64),\n",
        "                nn.ReLU(),\n",
        "                nn.Dropout2d(0.2),\n",
        "            ),\n",
        "            nn.Sequential(\n",
        "                nn.Conv2d(64, out_channels, kernel_size=3, padding=1),\n",
        "                nn.BatchNorm2d(out_channels),\n",
        "                nn.ReLU(),\n",
        "                nn.Dropout2d(0.2),\n",
        "            )\n",
        "        ])\n",
        "        self.pool = nn.AdaptiveAvgPool2d((8, 8))\n",
        "\n",
        "    def forward(self, x):\n",
        "        for conv in self.convs:\n",
        "            x = conv(x)\n",
        "        x = self.pool(x)\n",
        "        # Note: Removed flattening and self.fc to preserve 4D output shape\n",
        "        return x\n",
        "\n",
        "class EnhancedOutputBlock(nn.Module):\n",
        "    def __init__(self, in_channels, num_classes):\n",
        "        super(EnhancedOutputBlock, self).__init__()\n",
        "        self.avgpool = nn.AdaptiveAvgPool2d((1, 1))\n",
        "        self.fc1 = nn.Linear(in_channels * 1 * 1, in_channels // 2)\n",
        "        self.fc2 = nn.Linear(in_channels // 2, num_classes)\n",
        "        self.dropout = nn.Dropout(0.5)\n",
        "\n",
        "    def forward(self, x):\n",
        "        x = self.avgpool(x)\n",
        "        x = torch.flatten(x, 1)  # Flattening is appropriate here for FC layers\n",
        "        x = F.relu(self.fc1(x))\n",
        "        x = self.dropout(x)\n",
        "        x = self.fc2(x)\n",
        "        return x\n",
        "\n",
        "class CIFAR10Classifier(nn.Module):\n",
        "    def __init__(self, num_blocks=2, num_classes=10):\n",
        "        super(CIFAR10Classifier, self).__init__()\n",
        "        self.blocks = nn.ModuleList()\n",
        "        in_channels = 3\n",
        "        out_channels = 64  # Adjust based on the architecture's requirement\n",
        "        for i in range(num_blocks):\n",
        "            self.blocks.append(ImprovedIntermediateBlock(in_channels, out_channels))\n",
        "            in_channels = out_channels\n",
        "        self.output_block = EnhancedOutputBlock(out_channels, num_classes)\n",
        "\n",
        "    def forward(self, x):\n",
        "        for block in self.blocks:\n",
        "            x = block(x)\n",
        "        x = self.output_block(x)\n",
        "        return x\n",
        "\n",
        "# Model initialization for demonstration\n",
        "modelb = CIFAR10Classifier()\n",
        "print(modelb)"
      ],
      "metadata": {
        "colab": {
          "base_uri": "https://localhost:8080/"
        },
        "id": "jXhZlozjiYUi",
        "outputId": "b1d8c111-6abc-4452-dc84-8057ee0b5613"
      },
      "execution_count": null,
      "outputs": [
        {
          "output_type": "stream",
          "name": "stdout",
          "text": [
            "CIFAR10Classifier(\n",
            "  (blocks): ModuleList(\n",
            "    (0): ImprovedIntermediateBlock(\n",
            "      (convs): ModuleList(\n",
            "        (0): Sequential(\n",
            "          (0): Conv2d(3, 64, kernel_size=(3, 3), stride=(1, 1), padding=(1, 1))\n",
            "          (1): BatchNorm2d(64, eps=1e-05, momentum=0.1, affine=True, track_running_stats=True)\n",
            "          (2): ReLU()\n",
            "          (3): Dropout2d(p=0.2, inplace=False)\n",
            "        )\n",
            "        (1-2): 2 x Sequential(\n",
            "          (0): Conv2d(64, 64, kernel_size=(3, 3), stride=(1, 1), padding=(1, 1))\n",
            "          (1): BatchNorm2d(64, eps=1e-05, momentum=0.1, affine=True, track_running_stats=True)\n",
            "          (2): ReLU()\n",
            "          (3): Dropout2d(p=0.2, inplace=False)\n",
            "        )\n",
            "      )\n",
            "      (pool): AdaptiveAvgPool2d(output_size=(8, 8))\n",
            "    )\n",
            "    (1): ImprovedIntermediateBlock(\n",
            "      (convs): ModuleList(\n",
            "        (0-2): 3 x Sequential(\n",
            "          (0): Conv2d(64, 64, kernel_size=(3, 3), stride=(1, 1), padding=(1, 1))\n",
            "          (1): BatchNorm2d(64, eps=1e-05, momentum=0.1, affine=True, track_running_stats=True)\n",
            "          (2): ReLU()\n",
            "          (3): Dropout2d(p=0.2, inplace=False)\n",
            "        )\n",
            "      )\n",
            "      (pool): AdaptiveAvgPool2d(output_size=(8, 8))\n",
            "    )\n",
            "  )\n",
            "  (output_block): EnhancedOutputBlock(\n",
            "    (avgpool): AdaptiveAvgPool2d(output_size=(1, 1))\n",
            "    (fc1): Linear(in_features=64, out_features=32, bias=True)\n",
            "    (fc2): Linear(in_features=32, out_features=10, bias=True)\n",
            "    (dropout): Dropout(p=0.5, inplace=False)\n",
            "  )\n",
            ")\n"
          ]
        }
      ]
    },
    {
      "cell_type": "markdown",
      "source": [
        "# Training Task 3"
      ],
      "metadata": {
        "id": "h0xhXFE4WS5j"
      }
    },
    {
      "cell_type": "code",
      "source": [
        "import torch\n",
        "import torch.nn as nn\n",
        "import torch.optim as optim\n",
        "from torch.utils.data import DataLoader\n",
        "from torchvision import datasets, transforms\n",
        "device = torch.device('cuda' if torch.cuda.is_available() else 'cpu')\n",
        "\n",
        "# Assuming CIFAR10Classifier is the class name for Version 2 of the model\n",
        "modelb = CIFAR10Classifier().to(device)\n",
        "criterion = nn.CrossEntropyLoss()\n",
        "optimizer = optim.Adam(modelb.parameters(), lr=0.001)\n",
        "\n",
        "# CIFAR-10 Data Loaders\n",
        "transform = transforms.Compose([\n",
        "    transforms.ToTensor(),\n",
        "    transforms.Normalize((0.5, 0.5, 0.5), (0.5, 0.5, 0.5))\n",
        "])\n",
        "\n",
        "trainset = datasets.CIFAR10(root='./data', train=True, download=True, transform=transform)\n",
        "trainloader = DataLoader(trainset, batch_size=64, shuffle=True)\n",
        "\n",
        "testset = datasets.CIFAR10(root='./data', train=False, download=True, transform=transform)\n",
        "testloader = DataLoader(testset, batch_size=64, shuffle=False)\n",
        "\n",
        "# Training Loop\n",
        "num_epochs = 10  # Adjust as per requirement\n",
        "for epoch in range(num_epochs):\n",
        "    running_loss = 0.0\n",
        "    for images, labels in trainloader:\n",
        "        images, labels = images.to(device), labels.to(device)\n",
        "\n",
        "        optimizer.zero_grad()\n",
        "        outputs = modelb(images)\n",
        "        loss = criterion(outputs, labels)\n",
        "        loss.backward()\n",
        "        optimizer.step()\n",
        "\n",
        "        running_loss += loss.item()\n",
        "    print(f'Epoch {epoch+1}, Loss: {running_loss/len(trainloader)}')\n",
        "\n",
        "print('Finished Training')\n"
      ],
      "metadata": {
        "colab": {
          "base_uri": "https://localhost:8080/"
        },
        "id": "ImF0_94hgClJ",
        "outputId": "d3c78083-0ade-4f15-c140-0a025eb856a2"
      },
      "execution_count": null,
      "outputs": [
        {
          "output_type": "stream",
          "name": "stdout",
          "text": [
            "Downloading https://www.cs.toronto.edu/~kriz/cifar-10-python.tar.gz to ./data/cifar-10-python.tar.gz\n"
          ]
        },
        {
          "output_type": "stream",
          "name": "stderr",
          "text": [
            "100%|██████████| 170498071/170498071 [00:02<00:00, 63992678.43it/s]\n"
          ]
        },
        {
          "output_type": "stream",
          "name": "stdout",
          "text": [
            "Extracting ./data/cifar-10-python.tar.gz to ./data\n",
            "Files already downloaded and verified\n",
            "Epoch 1, Loss: 1.9201718475812537\n",
            "Epoch 2, Loss: 1.723445228908373\n",
            "Epoch 3, Loss: 1.6384051207386319\n",
            "Epoch 4, Loss: 1.552598842726949\n",
            "Epoch 5, Loss: 1.487273252071322\n",
            "Epoch 6, Loss: 1.4366286993026733\n",
            "Epoch 7, Loss: 1.380320988347768\n",
            "Epoch 8, Loss: 1.3379279149462804\n",
            "Epoch 9, Loss: 1.2834130206223948\n",
            "Epoch 10, Loss: 1.2516043393508247\n",
            "Finished Training\n"
          ]
        }
      ]
    },
    {
      "cell_type": "code",
      "source": [
        "modelb.eval()  # Set the model to evaluation mode\n",
        "\n",
        "correct = 0\n",
        "total = 0\n",
        "with torch.no_grad():  # Deactivate gradients for evaluation\n",
        "    for images, labels in testloader:\n",
        "        images, labels = images.to(device), labels.to(device)\n",
        "        outputs = modelb(images)\n",
        "        _, predicted = torch.max(outputs.data, 1)\n",
        "        total += labels.size(0)\n",
        "        correct += (predicted == labels).sum().item()\n",
        "\n",
        "accuracy = 100 * correct / total\n",
        "print(f'Accuracy of the model on the 10000 test images: {accuracy} %')\n"
      ],
      "metadata": {
        "colab": {
          "base_uri": "https://localhost:8080/"
        },
        "id": "zCcoQWZpQOE_",
        "outputId": "5e121390-26cb-42db-f793-b826afb69510"
      },
      "execution_count": null,
      "outputs": [
        {
          "output_type": "stream",
          "name": "stdout",
          "text": [
            "Accuracy of the model on the 10000 test images: 66.85 %\n"
          ]
        }
      ]
    },
    {
      "cell_type": "markdown",
      "source": [
        "# Testing Task 4\n"
      ],
      "metadata": {
        "id": "m8vU0--QWXVI"
      }
    },
    {
      "cell_type": "code",
      "source": [
        "import torch\n",
        "import torch.nn as nn\n",
        "import torch.optim as optim\n",
        "from torch.utils.data import DataLoader\n",
        "from torchvision import datasets, transforms\n",
        "\n",
        "device = torch.device('cuda' if torch.cuda.is_available() else 'cpu')\n",
        "\n",
        "# Assuming CIFAR10Classifier is already defined and ready to be used\n",
        "\n",
        "# Define your CIFAR10Classifier model\n",
        "modelb = CIFAR10Classifier().to(device)\n",
        "\n",
        "# Criterion (Loss function)\n",
        "criterion = nn.CrossEntropyLoss()\n",
        "\n",
        "# Optimizer - SGD with learning rate = 0.01 and weight decay = 0.0005\n",
        "optimizer = optim.SGD(modelb.parameters(), lr=0.01, weight_decay=0.0005)\n",
        "\n",
        "# CIFAR-10 Data Loaders\n",
        "transform = transforms.Compose([\n",
        "    transforms.ToTensor(),\n",
        "    transforms.Normalize((0.5, 0.5, 0.5), (0.5, 0.5, 0.5))\n",
        "])\n",
        "\n",
        "trainset = datasets.CIFAR10(root='./data', train=True, download=True, transform=transform)\n",
        "trainloader = DataLoader(trainset, batch_size=64, shuffle=True)\n",
        "\n",
        "testset = datasets.CIFAR10(root='./data', train=False, download=True, transform=transform)\n",
        "testloader = DataLoader(testset, batch_size=64, shuffle=False)\n",
        "\n",
        "# Training Loop\n",
        "num_epochs = 30  # You might adjust this based on observation\n",
        "for epoch in range(num_epochs):\n",
        "    modelb.train()  # Set model to training mode\n",
        "    running_loss = 0.0\n",
        "    for images, labels in trainloader:\n",
        "        images, labels = images.to(device), labels.to(device)\n",
        "\n",
        "        # Zero the parameter gradients\n",
        "        optimizer.zero_grad()\n",
        "\n",
        "        # Forward + backward + optimize\n",
        "        outputs = modelb(images)\n",
        "        loss = criterion(outputs, labels)\n",
        "        loss.backward()\n",
        "        optimizer.step()\n",
        "\n",
        "        running_loss += loss.item()\n",
        "\n",
        "    # Print statistics\n",
        "    print(f'Epoch {epoch+1}, Loss: {running_loss/len(trainloader)}')\n",
        "\n",
        "# Don't forget to evaluate your model on the test set after training\n",
        "modelb.eval()  # Set the model to evaluation mode\n",
        "correct = 0\n",
        "total = 0\n",
        "with torch.no_grad():  # Gradient computation is not needed for evaluation\n",
        "    for images, labels in testloader:\n",
        "        images, labels = images.to(device), labels.to(device)\n",
        "        outputs = modelb(images)\n",
        "        _, predicted = torch.max(outputs.data, 1)\n",
        "        total += labels.size(0)\n",
        "        correct += (predicted == labels).sum().item()\n",
        "\n",
        "accuracy = 100 * correct / total\n",
        "print(f'Accuracy of the model on the 10000 test images: {accuracy}%')\n",
        "\n"
      ],
      "metadata": {
        "colab": {
          "base_uri": "https://localhost:8080/"
        },
        "id": "lKRlyPp_QXfB",
        "outputId": "7e695065-afeb-417e-9289-26a117e02d1a"
      },
      "execution_count": null,
      "outputs": [
        {
          "output_type": "stream",
          "name": "stdout",
          "text": [
            "Files already downloaded and verified\n",
            "Files already downloaded and verified\n",
            "Epoch 1, Loss: 2.2499043228071365\n",
            "Epoch 2, Loss: 2.0759009603039384\n",
            "Epoch 3, Loss: 1.9689246632558914\n",
            "Epoch 4, Loss: 1.901074612689445\n",
            "Epoch 5, Loss: 1.8472076241317612\n",
            "Epoch 6, Loss: 1.8003965338782582\n",
            "Epoch 7, Loss: 1.7622349650963494\n",
            "Epoch 8, Loss: 1.7361485461139923\n",
            "Epoch 9, Loss: 1.7113205109106\n",
            "Epoch 10, Loss: 1.6816463346981332\n",
            "Epoch 11, Loss: 1.6568673065556285\n",
            "Epoch 12, Loss: 1.6290464712225872\n",
            "Epoch 13, Loss: 1.611982100302606\n",
            "Epoch 14, Loss: 1.5897108513071103\n",
            "Epoch 15, Loss: 1.572034317056846\n",
            "Epoch 16, Loss: 1.5512201484206998\n",
            "Epoch 17, Loss: 1.5318830426391739\n",
            "Epoch 18, Loss: 1.5172591369475246\n",
            "Epoch 19, Loss: 1.4942419678353898\n",
            "Epoch 20, Loss: 1.4822416895490778\n",
            "Epoch 21, Loss: 1.465499476551095\n",
            "Epoch 22, Loss: 1.4487827263219888\n",
            "Epoch 23, Loss: 1.4371533383188955\n",
            "Epoch 24, Loss: 1.4259785709478665\n",
            "Epoch 25, Loss: 1.40423893943772\n",
            "Epoch 26, Loss: 1.3962271004686575\n",
            "Epoch 27, Loss: 1.3774946932597538\n",
            "Epoch 28, Loss: 1.3667888645930668\n",
            "Epoch 29, Loss: 1.3552634406577595\n",
            "Epoch 30, Loss: 1.338362893942372\n",
            "Accuracy of the model on the 10000 test images: 62.5%\n"
          ]
        }
      ]
    },
    {
      "cell_type": "code",
      "source": [
        "device = torch.device('cuda' if torch.cuda.is_available() else 'cpu')\n",
        "\n",
        "# Assuming CIFAR10Classifier is already defined and ready to be used\n",
        "\n",
        "# Define your CIFAR10Classifier model\n",
        "modelb = CIFAR10Classifier().to(device)\n",
        "\n",
        "# Criterion (Loss function)\n",
        "criterion = nn.CrossEntropyLoss()\n",
        "\n",
        "# Optimizer - SGD with learning rate = 0.01 and weight decay = 0.0005\n",
        "optimizer = optim.SGD(modelb.parameters(), lr=0.001, momentum=0.9, weight_decay=0.0005)\n",
        "\n",
        "# CIFAR-10 Data Loaders\n",
        "transform = transforms.Compose([\n",
        "    transforms.ToTensor(),\n",
        "    transforms.Normalize((0.5, 0.5, 0.5), (0.5, 0.5, 0.5))\n",
        "])\n",
        "\n",
        "trainset = datasets.CIFAR10(root='./data', train=True, download=True, transform=transform)\n",
        "trainloader = DataLoader(trainset, batch_size=64, shuffle=True)\n",
        "\n",
        "testset = datasets.CIFAR10(root='./data', train=False, download=True, transform=transform)\n",
        "testloader = DataLoader(testset, batch_size=64, shuffle=False)\n",
        "\n",
        "# Training Loop\n",
        "num_epochs = 30  # You might adjust this based on observation\n",
        "for epoch in range(num_epochs):\n",
        "    modelb.train()  # Set model to training mode\n",
        "    running_loss = 0.0\n",
        "    for images, labels in trainloader:\n",
        "        images, labels = images.to(device), labels.to(device)\n",
        "\n",
        "        # Zero the parameter gradients\n",
        "        optimizer.zero_grad()\n",
        "\n",
        "        # Forward + backward + optimize\n",
        "        outputs = modelb(images)\n",
        "        loss = criterion(outputs, labels)\n",
        "        loss.backward()\n",
        "        optimizer.step()\n",
        "\n",
        "        running_loss += loss.item()\n",
        "\n",
        "    # Print statistics\n",
        "    print(f'Epoch {epoch+1}, Loss: {running_loss/len(trainloader)}')\n",
        "\n",
        "# Don't forget to evaluate your model on the test set after training\n",
        "modelb.eval()  # Set the model to evaluation mode\n",
        "correct = 0\n",
        "total = 0\n",
        "with torch.no_grad():  # Gradient computation is not needed for evaluation\n",
        "    for images, labels in testloader:\n",
        "        images, labels = images.to(device), labels.to(device)\n",
        "        outputs = modelb(images)\n",
        "        _, predicted = torch.max(outputs.data, 1)\n",
        "        total += labels.size(0)\n",
        "        correct += (predicted == labels).sum().item()\n",
        "\n",
        "accuracy = 100 * correct / total\n",
        "print(f'Accuracy of the model on the 10000 test images: {accuracy}%')\n",
        "\n"
      ],
      "metadata": {
        "colab": {
          "base_uri": "https://localhost:8080/"
        },
        "id": "XYuFaH-amk0q",
        "outputId": "7f9a67c0-f5ba-4f3c-9ee6-c9263b538c56"
      },
      "execution_count": null,
      "outputs": [
        {
          "output_type": "stream",
          "name": "stdout",
          "text": [
            "Files already downloaded and verified\n",
            "Files already downloaded and verified\n",
            "Epoch 1, Loss: 2.2172538371342223\n",
            "Epoch 2, Loss: 2.0500300409238967\n",
            "Epoch 3, Loss: 1.9548271138344884\n",
            "Epoch 4, Loss: 1.8862769993979607\n",
            "Epoch 5, Loss: 1.8349451456228485\n",
            "Epoch 6, Loss: 1.7946608147352858\n",
            "Epoch 7, Loss: 1.7552768798435436\n",
            "Epoch 8, Loss: 1.7275069894083321\n",
            "Epoch 9, Loss: 1.7062956980427209\n",
            "Epoch 10, Loss: 1.6827622868520828\n",
            "Epoch 11, Loss: 1.6610377278474286\n",
            "Epoch 12, Loss: 1.649524820277758\n",
            "Epoch 13, Loss: 1.6251667161731769\n",
            "Epoch 14, Loss: 1.6177007185528651\n",
            "Epoch 15, Loss: 1.5925916966879765\n",
            "Epoch 16, Loss: 1.574739970362095\n",
            "Epoch 17, Loss: 1.549618603933193\n",
            "Epoch 18, Loss: 1.542361816786744\n",
            "Epoch 19, Loss: 1.5164294659024309\n",
            "Epoch 20, Loss: 1.49933549647441\n",
            "Epoch 21, Loss: 1.4879309342950202\n",
            "Epoch 22, Loss: 1.467726619042399\n",
            "Epoch 23, Loss: 1.4643865755147032\n",
            "Epoch 24, Loss: 1.441449738524454\n",
            "Epoch 25, Loss: 1.4274560534740652\n",
            "Epoch 26, Loss: 1.4079837039913363\n",
            "Epoch 27, Loss: 1.3966126135548058\n",
            "Epoch 28, Loss: 1.3851374674331196\n",
            "Epoch 29, Loss: 1.3735514990509015\n",
            "Epoch 30, Loss: 1.3586609334592015\n",
            "Accuracy of the model on the 10000 test images: 61.76%\n"
          ]
        }
      ]
    },
    {
      "cell_type": "code",
      "source": [
        "import torch\n",
        "import torch.nn as nn\n",
        "import torch.optim as optim\n",
        "from torchvision import datasets, transforms\n",
        "from torch.utils.data import DataLoader\n",
        "\n",
        "device = torch.device('cuda' if torch.cuda.is_available() else 'cpu')\n",
        "\n",
        "# Assuming CIFAR10Classifier is defined within allowed adjustments\n",
        "modelb = CIFAR10Classifier().to(device)\n",
        "\n",
        "# Criterion (Loss function)\n",
        "criterion = nn.CrossEntropyLoss()\n",
        "\n",
        "# Using ADAM Optimizer\n",
        "optimizer = optim.Adam(modelb.parameters(), lr=0.001)\n",
        "\n",
        "# Enhanced Data Augmentation for Task 4\n",
        "transform_train_task4 = transforms.Compose([\n",
        "    transforms.RandomHorizontalFlip(),\n",
        "    transforms.RandomCrop(32, padding=4),\n",
        "    transforms.RandomRotation(15),\n",
        "    transforms.ColorJitter(brightness=0.2, contrast=0.2, saturation=0.2),\n",
        "    transforms.ToTensor(),\n",
        "    transforms.Normalize((0.5, 0.5, 0.5), (0.5, 0.5, 0.5)),\n",
        "])\n",
        "\n",
        "transform_test = transforms.Compose([\n",
        "    transforms.ToTensor(),\n",
        "    transforms.Normalize((0.5, 0.5, 0.5), (0.5, 0.5, 0.5)),\n",
        "])\n",
        "\n",
        "# Loading CIFAR-10 Data\n",
        "trainset_task4 = datasets.CIFAR10(root='./data', train=True, download=True, transform=transform_train_task4)\n",
        "trainloader_task4 = DataLoader(trainset_task4, batch_size=128, shuffle=True)\n",
        "\n",
        "testset_task4 = datasets.CIFAR10(root='./data', train=False, download=True, transform=transform_test)\n",
        "testloader_task4 = DataLoader(testset_task4, batch_size=100, shuffle=False)\n",
        "\n",
        "# Training Loop\n",
        "num_epochs = 50  # Increased epochs for more thorough training\n",
        "best_accuracy = 0  # Track the best testing accuracy\n",
        "\n",
        "for epoch in range(num_epochs):\n",
        "    modelb.train()\n",
        "    running_loss = 0.0\n",
        "    for images, labels in trainloader_task4:\n",
        "        images, labels = images.to(device), labels.to(device)\n",
        "\n",
        "        optimizer.zero_grad()\n",
        "        outputs = modelb(images)\n",
        "        loss = criterion(outputs, labels)\n",
        "        loss.backward()\n",
        "        optimizer.step()\n",
        "\n",
        "        running_loss += loss.item()\n",
        "\n",
        "    print(f'Epoch {epoch+1}, Loss: {running_loss / len(trainloader_task4)}')\n",
        "\n",
        "    # Evaluation on the test set\n",
        "    modelb.eval()\n",
        "    correct = 0\n",
        "    total = 0\n",
        "    with torch.no_grad():\n",
        "        for images, labels in testloader_task4:\n",
        "            images, labels = images.to(device), labels.to(device)\n",
        "            outputs = modelb(images)\n",
        "            _, predicted = torch.max(outputs.data, 1)\n",
        "            total += labels.size(0)\n",
        "            correct += (predicted == labels).sum().item()\n",
        "\n",
        "    accuracy = 100 * correct / total\n",
        "    print(f'Test Accuracy after epoch {epoch+1}: {accuracy}%')\n",
        "\n",
        "    # Save the model if it has the best accuracy so far\n",
        "    if accuracy > best_accuracy:\n",
        "        best_accuracy = accuracy\n",
        "        torch.save(modelb.state_dict(), 'best_model.pth')\n",
        "        print(f\"New best model saved with accuracy: {accuracy}%\")\n",
        "\n",
        "print('Finished Training')\n"
      ],
      "metadata": {
        "colab": {
          "base_uri": "https://localhost:8080/",
          "height": 211
        },
        "id": "8_lUf7MIsvYO",
        "outputId": "e78bb44e-9afa-4feb-ba08-9f77e1dfe3af"
      },
      "execution_count": null,
      "outputs": [
        {
          "output_type": "error",
          "ename": "NameError",
          "evalue": "name 'CIFAR10Classifier' is not defined",
          "traceback": [
            "\u001b[0;31m---------------------------------------------------------------------------\u001b[0m",
            "\u001b[0;31mNameError\u001b[0m                                 Traceback (most recent call last)",
            "\u001b[0;32m<ipython-input-1-36b10c2215c4>\u001b[0m in \u001b[0;36m<cell line: 10>\u001b[0;34m()\u001b[0m\n\u001b[1;32m      8\u001b[0m \u001b[0;34m\u001b[0m\u001b[0m\n\u001b[1;32m      9\u001b[0m \u001b[0;31m# Assuming CIFAR10Classifier is defined within allowed adjustments\u001b[0m\u001b[0;34m\u001b[0m\u001b[0;34m\u001b[0m\u001b[0m\n\u001b[0;32m---> 10\u001b[0;31m \u001b[0mmodelb\u001b[0m \u001b[0;34m=\u001b[0m \u001b[0mCIFAR10Classifier\u001b[0m\u001b[0;34m(\u001b[0m\u001b[0;34m)\u001b[0m\u001b[0;34m.\u001b[0m\u001b[0mto\u001b[0m\u001b[0;34m(\u001b[0m\u001b[0mdevice\u001b[0m\u001b[0;34m)\u001b[0m\u001b[0;34m\u001b[0m\u001b[0;34m\u001b[0m\u001b[0m\n\u001b[0m\u001b[1;32m     11\u001b[0m \u001b[0;34m\u001b[0m\u001b[0m\n\u001b[1;32m     12\u001b[0m \u001b[0;31m# Criterion (Loss function)\u001b[0m\u001b[0;34m\u001b[0m\u001b[0;34m\u001b[0m\u001b[0m\n",
            "\u001b[0;31mNameError\u001b[0m: name 'CIFAR10Classifier' is not defined"
          ]
        }
      ]
    },
    {
      "cell_type": "code",
      "source": [
        "import torch\n",
        "import torch.nn as nn\n",
        "import torch.optim as optim\n",
        "from torchvision import datasets, transforms\n",
        "from torch.utils.data import DataLoader\n",
        "\n",
        "device = torch.device('cuda' if torch.cuda.is_available() else 'cpu')\n",
        "\n",
        "class CIFAR10Classifier(nn.Module):\n",
        "    # Assuming this class is defined as per the basic architecture requirements\n",
        "    ...\n",
        "\n",
        "# Adjustments for Data Augmentation\n",
        "transform_train = transforms.Compose([\n",
        "    transforms.RandomHorizontalFlip(),\n",
        "    transforms.RandomCrop(32, padding=4),\n",
        "    transforms.ToTensor(),\n",
        "    transforms.Normalize((0.5, 0.5, 0.5), (0.5, 0.5, 0.5)),\n",
        "])\n",
        "\n",
        "# Keeping test transforms simple as per the basic requirements\n",
        "transform_test = transforms.Compose([\n",
        "    transforms.ToTensor(),\n",
        "    transforms.Normalize((0.5, 0.5, 0.5), (0.5, 0.5, 0.5)),\n",
        "])\n",
        "\n",
        "# Data Loaders\n",
        "trainset = datasets.CIFAR10(root='./data', train=True, download=True, transform=transform_train)\n",
        "trainloader = DataLoader(trainset, batch_size=128, shuffle=True)\n",
        "\n",
        "testset = datasets.CIFAR10(root='./data', train=False, download=True, transform=transform_test)\n",
        "testloader = DataLoader(testset, batch_size=100, shuffle=False)\n",
        "\n",
        "model = CIFAR10Classifier().to(device)\n",
        "\n",
        "# Using Adam with a learning rate scheduler\n",
        "optimizer = optim.Adam(model.parameters(), lr=0.001)\n",
        "scheduler = optim.lr_scheduler.StepLR(optimizer, step_size=20, gamma=0.1)\n",
        "\n",
        "criterion = nn.CrossEntropyLoss()\n",
        "\n",
        "# Training Loop with scheduler step\n",
        "...\n",
        "for epoch in range(num_epochs):\n",
        "    ...\n",
        "    scheduler.step()  # Adjust the learning rate based on the epoch\n"
      ],
      "metadata": {
        "id": "wTcCDAtLmvIi"
      },
      "execution_count": null,
      "outputs": []
    },
    {
      "cell_type": "code",
      "source": [
        "import matplotlib.pyplot as plt\n",
        "\n",
        "# Example placeholders for your metrics\n",
        "train_losses = []\n",
        "test_accuracies = []\n",
        "\n",
        "# After training, plot them\n",
        "plt.figure(figsize=(10, 5))\n",
        "\n",
        "plt.subplot(1, 2, 1)\n",
        "plt.plot(train_losses, label='Training Loss')\n",
        "plt.xlabel('Epoch')\n",
        "plt.ylabel('Loss')\n",
        "plt.title('Training Loss')\n",
        "\n",
        "plt.subplot(1, 2, 2)\n",
        "plt.plot(test_accuracies, label='Testing Accuracy')\n",
        "plt.xlabel('Epoch')\n",
        "plt.ylabel('Accuracy')\n",
        "plt.title('Testing Accuracy')\n",
        "\n",
        "plt.show()\n"
      ],
      "metadata": {
        "id": "zFD34ZaRatKn"
      },
      "execution_count": null,
      "outputs": []
    },
    {
      "cell_type": "code",
      "source": [
        "import matplotlib.pyplot as plt\n",
        "\n",
        "# Example data logged from your training process\n",
        "epochs = range(1, num_epochs + 1)\n",
        "training_loss = [...]  # Fill in with your logged training loss values\n",
        "training_accuracy = [...]  # Fill in with your logged training accuracy values\n",
        "test_accuracy = [...]  # Fill in with your logged test accuracy values\n",
        "\n",
        "# Plotting training loss\n",
        "plt.figure(figsize=(14, 6))\n",
        "plt.subplot(1, 2, 1)\n",
        "plt.plot(epochs, training_loss, label='Training Loss')\n",
        "plt.xlabel('Epoch')\n",
        "plt.ylabel('Loss')\n",
        "plt.title('Training Loss Over Epochs')\n",
        "plt.legend()\n",
        "\n",
        "# Plotting training and test accuracy\n",
        "plt.subplot(1, 2, 2)\n",
        "plt.plot(epochs, training_accuracy, label='Training Accuracy')\n",
        "plt.plot(epochs, test_accuracy, label='Test Accuracy')\n",
        "plt.xlabel('Epoch')\n",
        "plt.ylabel('Accuracy')\n",
        "plt.title('Training and Test Accuracy Over Epochs')\n",
        "plt.legend()\n",
        "\n",
        "plt.show()\n"
      ],
      "metadata": {
        "id": "eoRbBSFZjcHA"
      },
      "execution_count": null,
      "outputs": []
    }
  ]
}